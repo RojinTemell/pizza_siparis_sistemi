{
  "cells": [
    {
      "cell_type": "code",
      "execution_count": 1,
      "metadata": {
        "id": "dhwdQXbIwV-3"
      },
      "outputs": [],
      "source": [
        "import csv\n",
        "import datetime"
      ]
    },
    {
      "cell_type": "code",
      "execution_count": 2,
      "metadata": {
        "id": "a-l1-lm5wqYx"
      },
      "outputs": [],
      "source": [
        "with open(\"Menu.txt\",\"w\") as m:\n",
        "    m.write(\"\"\"* Lütfen Bir Pizza Tabanı Seçiniz:\n",
        "1: Klasik Pizza --> 100₺\n",
        "2: Margherita -----> 95₺\n",
        "3: Türk Pizza ----> 110₺\n",
        "4: Dominos Pizza ----> 90₺\n",
        "* Seçmek İstediğiniz Ekstra Malzemeler:\n",
        "11: Zeytin --> 3₺\n",
        "12: Mantar --> 5₺\n",
        "13: Peynir --> 7₺\n",
        "14: Et ------> 15₺\n",
        "15: Soğan ---> 2₺\n",
        "16: Mısır ---> 1₺\n",
        "17: Sucuk ---> 10₺\n",
        "* Teşekkür ederiz!\n",
        "        \"\"\")\n",
        "    \n"
      ]
    },
    {
      "cell_type": "code",
      "execution_count": 3,
      "metadata": {
        "id": "CNIuygZlybXK"
      },
      "outputs": [],
      "source": [
        "class Pizza:# üst sınıfı\n",
        "   \n",
        "   def get_description(self): # pizza açıklaması için kısıtlanmış description fonksiyonu\n",
        "     return self.__class__.__name__\n",
        "   def get_cost(self): # pizza fiyatları için kısıtlanmış  cost fonksiyonu\n",
        "     return self.__class__.cost"
      ]
    },
    {
      "cell_type": "code",
      "execution_count": 4,
      "metadata": {
        "id": "fVoGvENKybZE"
      },
      "outputs": [],
      "source": [
        "class Klasik(Pizza):# pizza sınıfın alt sınıfı \n",
        "  cost=100\n",
        "  def __init__(self):\n",
        "    self.description=\"\\nKlasik Pizzamızın Malzemeleri: Sucuk,Kaşar,Salam\"\n",
        "    print(self.description)\n",
        "\n",
        "      \n",
        "    "
      ]
    },
    {
      "cell_type": "code",
      "execution_count": 5,
      "metadata": {
        "id": "ggfq_fJeg72k"
      },
      "outputs": [],
      "source": [
        "class Margherita(Pizza):# pizza sınıfın alt sınıfı \n",
        "    cost = 95\n",
        "\n",
        "    def __init__(self):\n",
        "        self.description = \"\\nMargherita Pizzamızın Malzemeleri: Mozarella,Domates,Feslegen \"\n",
        "        print(self.description)\n"
      ]
    },
    {
      "cell_type": "code",
      "execution_count": 6,
      "metadata": {
        "id": "2sm2uOAuhLIQ"
      },
      "outputs": [],
      "source": [
        "class TurkPizza(Pizza):# pizza sınıfın alt sınıfı \n",
        "    cost = 110\n",
        "\n",
        "    def __init__(self):\n",
        "        self.description = \"\\nTürk Pizzamızın Malzemeleri: Kıyma,Sogan,Sarimsak, Naneden \"\n",
        "        print(self.description)\n"
      ]
    },
    {
      "cell_type": "code",
      "execution_count": 7,
      "metadata": {
        "id": "J_yjg_kuh0Bi"
      },
      "outputs": [],
      "source": [
        "class Dominos(Pizza):# pizza sınıfın alt sınıfı \n",
        "    cost = 90\n",
        "\n",
        "    def __init__(self):\n",
        "        self.description = \"\\nDominos Pizzamızın Malzemeleri:Kaşar,SucukZeytin,Mısır,Mantar \"\n",
        "        print(self.description)"
      ]
    },
    {
      "cell_type": "code",
      "execution_count": 8,
      "metadata": {
        "id": "F0ialGfLigyk"
      },
      "outputs": [],
      "source": [
        "class Decorator(Pizza):# Malzemeler için pizza sınıfından kalıtım alarak bir  üst sınıf oluşturduk\n",
        "    def __init__(self, topping):\n",
        "        self.component = topping\n",
        "\n",
        "    def get_cost(self):\n",
        "        return self.component.get_cost() + \\\n",
        "          Pizza.get_cost(self)\n",
        "\n",
        "    def get_description(self):\n",
        "        return self.component.get_description() + \\\n",
        "          ' : ' + Pizza.get_description(self)\n"
      ]
    },
    {
      "cell_type": "code",
      "execution_count": 9,
      "metadata": {
        "id": "M2Az-Xvdjwr6"
      },
      "outputs": [],
      "source": [
        "class Zeytin(Decorator):#Decorator sınıfımızın alt sınıfı\n",
        "    cost = 3\n",
        "\n",
        "    def __init__(self, topping):\n",
        "        Decorator.__init__(self, topping)"
      ]
    },
    {
      "cell_type": "code",
      "execution_count": 10,
      "metadata": {
        "id": "vvB6uu4Bj11R"
      },
      "outputs": [],
      "source": [
        "class Mantar(Decorator):#Decorator sınıfımızın alt sınıfı\n",
        "    cost = 5\n",
        "\n",
        "    def __init__(self, topping):\n",
        "        Decorator.__init__(self, topping)\n"
      ]
    },
    {
      "cell_type": "code",
      "execution_count": 11,
      "metadata": {
        "id": "01LJUAEoj5i5"
      },
      "outputs": [],
      "source": [
        "class Peynir(Decorator):#Decorator sınıfımızın alt sınıfı\n",
        "    cost = 7\n",
        "\n",
        "    def __init__(self, topping):\n",
        "        Decorator.__init__(self, topping)"
      ]
    },
    {
      "cell_type": "code",
      "execution_count": 12,
      "metadata": {
        "id": "vxpW6Swzj8N6"
      },
      "outputs": [],
      "source": [
        "class Sogan(Decorator):#Decorator sınıfımızın alt sınıfı\n",
        "    cost =2\n",
        "\n",
        "    def __init__(self, topping):\n",
        "        Decorator.__init__(self, topping)\n"
      ]
    },
    {
      "cell_type": "code",
      "execution_count": 13,
      "metadata": {
        "id": "Nt4Qdn1Pj8-z"
      },
      "outputs": [],
      "source": [
        "class Misir(Decorator):#Decorator sınıfımızın alt sınıfı\n",
        "    cost = 1\n",
        "\n",
        "    def __init__(self, topping):\n",
        "        Decorator.__init__(self, topping)\n"
      ]
    },
    {
      "cell_type": "code",
      "execution_count": 14,
      "metadata": {
        "id": "_72Y3Pykj9BN"
      },
      "outputs": [],
      "source": [
        "class Sucuk(Decorator):#Decorator sınıfımızın alt sınıfı\n",
        "    cost = 10\n",
        "\n",
        "    def __init__(self, topping):\n",
        "        Decorator.__init__(self, topping)"
      ]
    },
    {
      "cell_type": "code",
      "execution_count": 15,
      "metadata": {
        "id": "fmYVcwNTkCLq"
      },
      "outputs": [],
      "source": [
        "class Et(Decorator):#Decorator sınıfımızın alt sınıfı\n",
        "    cost = 15\n",
        "\n",
        "    def __init__(self, topping):\n",
        "        Decorator.__init__(self, topping)"
      ]
    },
    {
      "cell_type": "code",
      "execution_count": 21,
      "metadata": {
        "id": "npcuK0nfkCTA"
      },
      "outputs": [],
      "source": [
        "def main():  # ana sınıfımız\n",
        "    with open(\"Menu.txt\", \"r\") as menu:# okuma özelliğiyle txt dosyamızı açıyoruz\n",
        "        for i in menu:\n",
        "            print(i, end=\"\")\n",
        "\n",
        "    class_dict = {1: Klasik,\n",
        "                  2: Margherita,\n",
        "                  3: TurkPizza,\n",
        "                  4: Dominos,\n",
        "                  11: Zeytin,\n",
        "                  12: Mantar,\n",
        "                  13: Peynir,\n",
        "                  14: Et,\n",
        "                  15: Sogan,\n",
        "                  16: Misir,\n",
        "                  17: Sucuk}\n",
        "\n",
        "    data = input(\"Lütfen Pizzanızı Seçiniz: \")\n",
        "    while data not in [\"1\", \"2\", \"3\", \"4\"]:\n",
        "        data = input(\"Hatalı giriş: \")\n",
        "\n",
        "    order = class_dict[int(data)]()\n",
        "\n",
        "    while data != \"q\":\n",
        "        data = input(\n",
        "            \"Fazladan malzeme almak istiyorsaniz numara giriniz (Direkt Siparişinizi Onaylamak İçin 'q' ya  basiniz): \")\n",
        "        if data in [\"11\", \"12\", \"13\", \"14\", \"15\", \"16\",\"17\"]:\n",
        "            order = class_dict[int(data)](order)\n",
        "\n",
        "    print(\"\\n\" + order.get_description().strip() + \"; $\" + str(order.get_cost()))\n",
        "    print(\"\\n\")\n",
        "\n",
        "    # Siparis  sistemini açıyoruz ve müşteriyi veritabanina kaydediyoruz\n",
        "\n",
        "    print(\"----------Müşteri Bilgileri----------\\n\")\n",
        "    name = input(\"İsminiz: \")\n",
        "    krediNo = input(\"Kredi Kartı Numaranızı Giriniz: \")\n",
        "    krediSifre = input(\"Kredi Kartı Şifrenizi Giriniz: \")\n",
        "    time = datetime.datetime.now()\n",
        "\n",
        "    with open('Orders_Database.csv', 'a') as orders:\n",
        "        orders = csv.writer(orders, delimiter=',')\n",
        "        orders.writerow([name,  krediNo, krediSifre, order.get_description(), time])\n",
        "    print(\"Siparişiniz Onaylandı.\")\n",
        "\n"
      ]
    },
    {
      "cell_type": "code",
      "execution_count": 22,
      "metadata": {
        "colab": {
          "base_uri": "https://localhost:8080/"
        },
        "id": "Us2lDSM7oN4L",
        "outputId": "be4007d0-fff4-448c-d200-df163ee7a86a"
      },
      "outputs": [
        {
          "name": "stdout",
          "output_type": "stream",
          "text": [
            "* Lütfen Bir Pizza Tabanı Seçiniz:\n",
            "1: Klasik Pizza --> 100₺\n",
            "2: Margherita -----> 95₺\n",
            "3: Türk Pizza ----> 110₺\n",
            "4: Dominos Pizza ----> 90₺\n",
            "* Seçmek İstediğiniz Ekstra Malzemeler:\n",
            "11: Zeytin --> 3₺\n",
            "12: Mantar --> 5₺\n",
            "13: Peynir --> 7₺\n",
            "14: Et ------> 15₺\n",
            "15: Soğan ---> 2₺\n",
            "16: Mısır ---> 1₺\n",
            "17: Sucuk ---> 10₺\n",
            "* Teşekkür ederiz!\n",
            "        Lütfen Pizzanızı Seçiniz: 1\n",
            "\n",
            "Klasik Pizzamızın Malzemeleri: Sucuk,Kaşar,Salam\n",
            "Fazladan malzeme almak istiyorsaniz numara giriniz (Direkt Siparişinizi Onaylamak İçin 'q' ya  basiniz): 11\n",
            "Fazladan malzeme almak istiyorsaniz numara giriniz (Direkt Siparişinizi Onaylamak İçin 'q' ya  basiniz): q\n",
            "\n",
            "Klasik : Zeytin; $103\n",
            "\n",
            "\n",
            "----------Müşteri Bilgileri----------\n",
            "\n",
            "İsminiz: rojin\n",
            "Kredi Kartı Numaranızı Giriniz: 123456\n",
            "Kredi Kartı Şifrenizi Giriniz: 123\n",
            "Siparişiniz Onaylandı.\n"
          ]
        }
      ],
      "source": [
        "main()\n"
      ]
    }
  ],
  "metadata": {
    "colab": {
      "provenance": []
    },
    "kernelspec": {
      "display_name": "Python 3",
      "name": "python3"
    },
    "language_info": {
      "name": "python"
    }
  },
  "nbformat": 4,
  "nbformat_minor": 0
}
